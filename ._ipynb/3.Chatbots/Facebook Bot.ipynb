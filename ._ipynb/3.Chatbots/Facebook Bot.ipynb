{
 "cells": [
  {
   "cell_type": "code",
   "execution_count": 61,
   "metadata": {},
   "outputs": [
    {
     "name": "stderr",
     "output_type": "stream",
     "text": [
      "Logging in arnold.chan@lndata.com...\n",
      "Login of arnold.chan@lndata.com successful.\n"
     ]
    }
   ],
   "source": [
    "from fbchat import Client\n",
    "\n",
    "email= 'arnold.chan@lndata.com'\n",
    "password= 'arnold@lndata'\n",
    "\n",
    "from fbchat import log, Client\n",
    "\n",
    "# Subclass fbchat.Client and override required methods\n",
    "class EchoBot(Client):\n",
    "    def onMessage(self, author_id, message_object, thread_id, thread_type, **kwargs):\n",
    "        self.markAsDelivered(thread_id, message_object.uid)\n",
    "        self.markAsRead(thread_id)\n",
    "\n",
    "        log.info(\"{} from {} in {}\".format(message_object, thread_id, thread_type.name))\n",
    "\n",
    "        # If you're not the author, echo\n",
    "#         if author_id != self.uid:\n",
    "#             self.send(message_object, thread_id=thread_id, thread_type=thread_type)\n",
    "        print(message_object)\n",
    "\n",
    "client = EchoBot(email, password)\n",
    "# client.listen()"
   ]
  },
  {
   "cell_type": "code",
   "execution_count": 37,
   "metadata": {},
   "outputs": [
    {
     "data": {
      "text/plain": [
       "'mid.$cAABa_Pt6ZzpzVjfYMFtJPKPrRSqn'"
      ]
     },
     "execution_count": 37,
     "metadata": {},
     "output_type": "execute_result"
    }
   ],
   "source": [
    "client.sendMessage"
   ]
  },
  {
   "cell_type": "code",
   "execution_count": 76,
   "metadata": {},
   "outputs": [
    {
     "name": "stderr",
     "output_type": "stream",
     "text": [
      "Refreshing state and resending request\n"
     ]
    },
    {
     "data": {
      "text/plain": [
       "'mid.$cAABa_Pt6ZzpzaRfl11tN9KdIFX28'"
      ]
     },
     "execution_count": 76,
     "metadata": {},
     "output_type": "execute_result"
    }
   ],
   "source": [
    "from fbchat import Client\n",
    "from fbchat.models import *\n",
    "\n",
    "thread_id = \"1327886962\"\n",
    "thread_type = ThreadType.USER\n",
    "\n",
    "# Will send a message to the thread\n",
    "client.send(Message(text=\"<message>\"), thread_id=thread_id, thread_type=thread_type)\n",
    "\n",
    "# Will send the default `like` emoji\n",
    "client.send(\n",
    "    Message(emoji_size=EmojiSize.LARGE), thread_id=thread_id, thread_type=thread_type\n",
    ")\n"
   ]
  },
  {
   "cell_type": "code",
   "execution_count": null,
   "metadata": {},
   "outputs": [],
   "source": [
    "https://platform-lookaside.fbsbx.com/platform/profilepic/?asid=10214180007037302&height=50&width=50&ext=1570988467&hash=AeQxlRTj2kzaO9Q9"
   ]
  },
  {
   "cell_type": "code",
   "execution_count": 66,
   "metadata": {},
   "outputs": [],
   "source": [
    "fetch_url = \"https://graph.facebook.com/v2.6/\"+\"10214180007037302\"+\"?fields=first_name,last_name,profile_pic,locale,timezone,gender&access_token=\"+ACCESS_TOKEN\n",
    "html= requests.get(fetch_url)"
   ]
  },
  {
   "cell_type": "code",
   "execution_count": 67,
   "metadata": {},
   "outputs": [
    {
     "data": {
      "text/plain": [
       "'{\"error\":{\"message\":\"(#100) Invalid parameter\",\"type\":\"OAuthException\",\"code\":100,\"fbtrace_id\":\"AEIkwVTRGknnD8M5TGKlLdv\"}}'"
      ]
     },
     "execution_count": 67,
     "metadata": {},
     "output_type": "execute_result"
    }
   ],
   "source": [
    "html.text"
   ]
  },
  {
   "cell_type": "code",
   "execution_count": 74,
   "metadata": {},
   "outputs": [],
   "source": [
    "import requests\n",
    "html=requests.post(url,data=data,headers=header)"
   ]
  },
  {
   "cell_type": "code",
   "execution_count": 75,
   "metadata": {},
   "outputs": [
    {
     "data": {
      "text/plain": [
       "'{\"error\":{\"message\":\"(#100) param recipient must be non-empty.\",\"type\":\"OAuthException\",\"code\":100,\"fbtrace_id\":\"A08mebIwT0d5Us4C1SoKOer\"}}'"
      ]
     },
     "execution_count": 75,
     "metadata": {},
     "output_type": "execute_result"
    }
   ],
   "source": [
    "client.get"
   ]
  },
  {
   "cell_type": "code",
   "execution_count": 73,
   "metadata": {},
   "outputs": [],
   "source": [
    "header= {'Content-Type': 'application/json'}\n",
    "data = {\n",
    "  \"recipient\":{\n",
    "    \"id\":\"10214180007037302\"\n",
    "  },\n",
    "  \"message\":{\n",
    "    \"attachment\":{\n",
    "      \"type\":\"template\",\n",
    "      \"payload\":{\n",
    "        \"template_type\":\"button\",\n",
    "        \"text\":\"What do you want to do next?\",\n",
    "        \"buttons\":[\n",
    "          {\n",
    "            \"type\":\"web_url\",\n",
    "            \"url\":\"https://www.messenger.com\",\n",
    "            \"title\":\"Visit Messenger\"\n",
    "          }\n",
    "        ]\n",
    "      }\n",
    "    }\n",
    "  }\n",
    "}\n",
    "url = \"https://graph.facebook.com/v2.6/me/messages?access_token=\"+ACCESS_TOKEN"
   ]
  },
  {
   "cell_type": "code",
   "execution_count": 3,
   "metadata": {},
   "outputs": [
    {
     "name": "stdout",
     "output_type": "stream",
     "text": [
      " * Serving Flask app \"__main__\" (lazy loading)\n",
      " * Environment: production\n",
      "   WARNING: This is a development server. Do not use it in a production deployment.\n",
      "   Use a production WSGI server instead.\n",
      " * Debug mode: off\n"
     ]
    },
    {
     "name": "stderr",
     "output_type": "stream",
     "text": [
      " * Running on http://127.0.0.1:5000/ (Press CTRL+C to quit)\n",
      "127.0.0.1 - - [12/Sep/2019 15:58:54] \"GET / HTTP/1.1\" 200 -\n",
      "127.0.0.1 - - [12/Sep/2019 16:02:14] \"GET / HTTP/1.1\" 200 -\n",
      "127.0.0.1 - - [12/Sep/2019 16:12:57] \"POST / HTTP/1.1\" 200 -\n",
      "127.0.0.1 - - [12/Sep/2019 16:12:58] \"POST / HTTP/1.1\" 200 -\n",
      "127.0.0.1 - - [12/Sep/2019 16:13:35] \"POST / HTTP/1.1\" 200 -\n",
      "127.0.0.1 - - [12/Sep/2019 16:13:36] \"POST / HTTP/1.1\" 200 -\n",
      "127.0.0.1 - - [12/Sep/2019 16:13:43] \"POST / HTTP/1.1\" 200 -\n"
     ]
    }
   ],
   "source": [
    "\n",
    "#Python libraries that we need to import for our bot\n",
    "import random\n",
    "from flask import Flask, request\n",
    "from pymessenger.bot import Bot\n",
    "\n",
    "app = Flask(__name__)\n",
    "ACCESS_TOKEN = 'EAAEuGHwslGMBADFPcbTmxCIPujHyAFtgoLRw60J9EpZCy9hsj38KnZAfZCfjDZAIjRAFMkkiYf0WDtIE8BC6TSQrJLYaLMQOQNRyZCGK3gsjZCrYDPjM7AZB9CEl8XWOASVYIUe8ZBenyiRGESsh6XcH30dB4il3dWpewznthZA0BDwZDZD'\n",
    "VERIFY_TOKEN = 'verifyme'\n",
    "bot = Bot(ACCESS_TOKEN)\n",
    "\n",
    "#We will receive messages that Facebook sends our bot at this endpoint \n",
    "@app.route(\"/\", methods=['GET', 'POST'])\n",
    "def receive_message():\n",
    "    if request.method == 'GET':\n",
    "        \"\"\"Before allowing people to message your bot, Facebook has implemented a verify token\n",
    "        that confirms all requests that your bot receives came from Facebook.\"\"\" \n",
    "        token_sent = request.args.get(\"hub.verify_token\")\n",
    "        return verify_fb_token(token_sent)\n",
    "    #if the request was not get, it must be POST and we can just proceed with sending a message back to user\n",
    "    else:\n",
    "        # get whatever message a user sent the bot\n",
    "       output = request.get_json()\n",
    "       for event in output['entry']:\n",
    "          messaging = event['messaging']\n",
    "          for message in messaging:\n",
    "            if message.get('message'):\n",
    "                #Facebook Messenger ID for user so we know where to send response back to\n",
    "                recipient_id = message['sender']['id']\n",
    "                if message['message'].get('text'):\n",
    "                    response_sent_text = get_message()\n",
    "                    send_message(recipient_id, response_sent_text)\n",
    "                #if user sends us a GIF, photo,video, or any other non-text item\n",
    "                if message['message'].get('attachments'):\n",
    "                    response_sent_nontext = get_message()\n",
    "                    send_message(recipient_id, response_sent_nontext)\n",
    "    return \"Message Processed\"\n",
    "\n",
    "\n",
    "def verify_fb_token(token_sent):\n",
    "    #take token sent by facebook and verify it matches the verify token you sent\n",
    "    #if they match, allow the request, else return an error \n",
    "    if token_sent == VERIFY_TOKEN:\n",
    "        return request.args.get(\"hub.challenge\")\n",
    "    return 'Invalid verification token'\n",
    "\n",
    "\n",
    "#chooses a random message to send to the user\n",
    "def get_message():\n",
    "    sample_responses = [\"You are stunning!\", \"We're proud of you.\", \"Keep on being you!\", \"We're greatful to know you :)\"]\n",
    "    # return selected item to the user\n",
    "    return random.choice(sample_responses)\n",
    "\n",
    "#uses PyMessenger to send response to user\n",
    "def send_message(recipient_id, response):\n",
    "    #sends user the text message provided via input response parameter\n",
    "    bot.send_text_message(recipient_id, response)\n",
    "    return \"success\"\n",
    "\n",
    "if __name__ == \"__main__\":\n",
    "    app.run()"
   ]
  },
  {
   "cell_type": "code",
   "execution_count": null,
   "metadata": {},
   "outputs": [],
   "source": []
  }
 ],
 "metadata": {
  "kernelspec": {
   "display_name": "Instagram",
   "language": "python",
   "name": "instagram"
  },
  "language_info": {
   "codemirror_mode": {
    "name": "ipython",
    "version": 3
   },
   "file_extension": ".py",
   "mimetype": "text/x-python",
   "name": "python",
   "nbconvert_exporter": "python",
   "pygments_lexer": "ipython3",
   "version": "3.7.3"
  }
 },
 "nbformat": 4,
 "nbformat_minor": 4
}
