{
 "cells": [
  {
   "cell_type": "code",
   "execution_count": 16,
   "metadata": {},
   "outputs": [
    {
     "data": {
      "text/plain": [
       "{'手機': {'sub_categories': {'手機綜合討論區': {'url': 'https://www.mobile01.com/forumtopic.php?c=16'},\n",
       "   'Android綜合討論區': {'url': 'https://www.mobile01.com/forumtopic.php?c=16&s=20'},\n",
       "   'Symbian': {'url': 'https://www.mobile01.com/forumtopic.php?c=16&s=23'},\n",
       "   'Windows Phone': {'url': 'https://www.mobile01.com/forumtopic.php?c=16&s=24'},\n",
       "   'BlackBerry': {'url': 'https://www.mobile01.com/forumtopic.php?c=16&s=21'},\n",
       "   'Feature Phone': {'url': 'https://www.mobile01.com/forumtopic.php?c=16&s=12'}}},\n",
       " '相機': {'sub_categories': {'相機綜合討論區': {'url': 'https://www.mobile01.com/forumtopic.php?c=20'},\n",
       "   '消費型相機': {'url': 'https://www.mobile01.com/forumtopic.php?c=20&s=16'},\n",
       "   '可換鏡頭相機': {'url': 'https://www.mobile01.com/forumtopic.php?c=20&s=17'},\n",
       "   '運動、空拍、攝影機': {'url': 'https://www.mobile01.com/forumtopic.php?c=20&s=18'},\n",
       "   '影像器材周邊': {'url': 'https://www.mobile01.com/topiclist.php?f=164'},\n",
       "   '傳統與特殊相機': {'url': 'https://www.mobile01.com/topiclist.php?f=255'},\n",
       "   '攝影觀念及技術': {'url': 'https://www.mobile01.com/topiclist.php?f=257'},\n",
       "   '影像處理與後製': {'url': 'https://www.mobile01.com/topiclist.php?f=256'},\n",
       "   '相機消費經驗分享': {'url': 'https://www.mobile01.com/topiclist.php?f=395'}}},\n",
       " '筆電': {'sub_categories': {'筆電綜合討論區': {'url': 'https://www.mobile01.com/forumtopic.php?c=19'},\n",
       "   '台灣品牌': {'url': 'https://www.mobile01.com/javascript:void(0);'},\n",
       "   '亞洲品牌': {'url': 'https://www.mobile01.com/javascript:void(0);'},\n",
       "   '歐美品牌': {'url': 'https://www.mobile01.com/javascript:void(0);'},\n",
       "   'Android平板電腦': {'url': 'https://www.mobile01.com/topiclist.php?f=605'},\n",
       "   'Windows平板電腦': {'url': 'https://www.mobile01.com/topiclist.php?f=163'},\n",
       "   '其他攜帶型電腦': {'url': 'https://www.mobile01.com/topiclist.php?f=159'},\n",
       "   '筆電消費經驗分享': {'url': 'https://www.mobile01.com/topiclist.php?f=394'}}},\n",
       " '電腦': {'sub_categories': {'電腦綜合討論區': {'url': 'https://www.mobile01.com/forumtopic.php?c=17'},\n",
       "   '核心組件': {'url': 'https://www.mobile01.com/forumtopic.php?c=17&s=5'},\n",
       "   '儲存裝置': {'url': 'https://www.mobile01.com/forumtopic.php?c=17&s=6'},\n",
       "   '顯示設備': {'url': 'https://www.mobile01.com/forumtopic.php?c=17&s=7'},\n",
       "   '電腦週邊': {'url': 'https://www.mobile01.com/forumtopic.php?c=17&s=8'},\n",
       "   '機殼散熱': {'url': 'https://www.mobile01.com/forumtopic.php?c=17&s=9'},\n",
       "   '網路產品': {'url': 'https://www.mobile01.com/forumtopic.php?c=17&s=10'},\n",
       "   '電腦軟體': {'url': 'https://www.mobile01.com/forumtopic.php?c=17&s=11'},\n",
       "   '品牌電腦與準系統': {'url': 'https://www.mobile01.com/topiclist.php?f=513'},\n",
       "   '自組電腦分享': {'url': 'https://www.mobile01.com/topiclist.php?f=174'},\n",
       "   '其他電腦綜合討論': {'url': 'https://www.mobile01.com/topiclist.php?f=514'},\n",
       "   '電腦組裝訪價消費分享': {'url': 'https://www.mobile01.com/topiclist.php?f=396'},\n",
       "   'Google服務分享': {'url': 'https://www.mobile01.com/topiclist.php?f=359'}}},\n",
       " '蘋果': {'sub_categories': {'蘋果綜合討論區': {'url': 'https://www.mobile01.com/forumtopic.php?c=30'},\n",
       "   '蘋果軟體綜合': {'url': 'https://www.mobile01.com/javascript:void(0);'},\n",
       "   'iPad': {'url': 'https://www.mobile01.com/topiclist.php?f=563'},\n",
       "   'iPhone': {'url': 'https://www.mobile01.com/topiclist.php?f=383'},\n",
       "   'iPod': {'url': 'https://www.mobile01.com/topiclist.php?f=479'},\n",
       "   'iOS Jailbreak': {'url': 'https://www.mobile01.com/topiclist.php?f=591'},\n",
       "   'Apple TV': {'url': 'https://www.mobile01.com/topiclist.php?f=704'},\n",
       "   'Apple Watch': {'url': 'https://www.mobile01.com/topiclist.php?f=470'},\n",
       "   'Mac桌上型電腦': {'url': 'https://www.mobile01.com/topiclist.php?f=480'},\n",
       "   'Mac筆記型電腦': {'url': 'https://www.mobile01.com/topiclist.php?f=481'},\n",
       "   '蘋果週邊綜合': {'url': 'https://www.mobile01.com/topiclist.php?f=177'},\n",
       "   '蘋果裝置消費經驗分享': {'url': 'https://www.mobile01.com/topiclist.php?f=483'}}},\n",
       " '影音': {'sub_categories': {'影音綜合討論區': {'url': 'https://www.mobile01.com/forumtopic.php?c=28'},\n",
       "   '行動影音': {'url': 'https://www.mobile01.com/topiclist.php?f=180'},\n",
       "   '高畫質視界': {'url': 'https://www.mobile01.com/topiclist.php?f=347'},\n",
       "   '發燒音響': {'url': 'https://www.mobile01.com/topiclist.php?f=348'},\n",
       "   '小惡魔影城': {'url': 'https://www.mobile01.com/topiclist.php?f=386'},\n",
       "   '音樂鑑賞室': {'url': 'https://www.mobile01.com/topiclist.php?f=402'},\n",
       "   '其他影音裝置': {'url': 'https://www.mobile01.com/topiclist.php?f=562'},\n",
       "   '小惡魔電視台': {'url': 'https://www.mobile01.com/topiclist.php?f=421'},\n",
       "   '影音消費經驗分享': {'url': 'https://www.mobile01.com/topiclist.php?f=403'}}},\n",
       " '汽車': {'sub_categories': {'汽車綜合討論區': {'url': 'https://www.mobile01.com/forumtopic.php?c=21'},\n",
       "   '歐洲車系': {'url': 'https://www.mobile01.com/javascript:void(0);'},\n",
       "   '美國車系': {'url': 'https://www.mobile01.com/forumtopic.php?c=21&s=30'},\n",
       "   '日本車系': {'url': 'https://www.mobile01.com/forumtopic.php?c=21&s=31'},\n",
       "   '韓國車系': {'url': 'https://www.mobile01.com/forumtopic.php?c=21&s=32'},\n",
       "   '台灣車系': {'url': 'https://www.mobile01.com/forumtopic.php?c=21&s=33'},\n",
       "   '汽車周邊': {'url': 'https://www.mobile01.com/javascript:void(0);'},\n",
       "   '汽車話題': {'url': 'https://www.mobile01.com/javascript:void(0);'}}},\n",
       " '機車': {'sub_categories': {'機車綜合討論區': {'url': 'https://www.mobile01.com/forumtopic.php?c=29'},\n",
       "   '輕型機車': {'url': 'https://www.mobile01.com/forumtopic.php?c=29&s=35'},\n",
       "   '重型機車': {'url': 'https://www.mobile01.com/forumtopic.php?c=29&s=36'},\n",
       "   '電動機車': {'url': 'https://www.mobile01.com/forumtopic.php?c=29&s=45'},\n",
       "   '機車行車記錄器': {'url': 'https://www.mobile01.com/forumtopic.php?c=29&s=48'},\n",
       "   '機車GPS': {'url': 'https://www.mobile01.com/forumtopic.php?c=29&s=49'},\n",
       "   '人身安全部品': {'url': 'https://www.mobile01.com/topiclist.php?f=265'},\n",
       "   '機車活動區': {'url': 'https://www.mobile01.com/topiclist.php?f=414'},\n",
       "   '機車遊記分享': {'url': 'https://www.mobile01.com/topiclist.php?f=416'},\n",
       "   '機車賽事': {'url': 'https://www.mobile01.com/topiclist.php?f=431'},\n",
       "   '機車消費經驗分享': {'url': 'https://www.mobile01.com/topiclist.php?f=415'}}},\n",
       " '單車': {'sub_categories': {'單車綜合討論區': {'url': 'https://www.mobile01.com/forumtopic.php?c=24'},\n",
       "   '單車GPS': {'url': 'https://www.mobile01.com/forumtopic.php?c=24&s=50'},\n",
       "   '單車其他車種': {'url': 'https://www.mobile01.com/topiclist.php?f=268'},\n",
       "   '自行車活動與賽事': {'url': 'https://www.mobile01.com/topiclist.php?f=287'},\n",
       "   '登山車': {'url': 'https://www.mobile01.com/topiclist.php?f=315'},\n",
       "   '公路車': {'url': 'https://www.mobile01.com/topiclist.php?f=316'},\n",
       "   '單速車': {'url': 'https://www.mobile01.com/topiclist.php?f=692'},\n",
       "   '小徑與摺疊車': {'url': 'https://www.mobile01.com/topiclist.php?f=317'},\n",
       "   '自行車週邊與保養改裝': {'url': 'https://www.mobile01.com/topiclist.php?f=318'},\n",
       "   '遊記與路線分享區': {'url': 'https://www.mobile01.com/topiclist.php?f=320'},\n",
       "   '自行車GPS航跡分享': {'url': 'https://www.mobile01.com/topiclist.php?f=377'},\n",
       "   '單車消費經驗分享': {'url': 'https://www.mobile01.com/topiclist.php?f=398'}}},\n",
       " '遊戲': {'sub_categories': {'遊戲綜合討論區': {'url': 'https://www.mobile01.com/forumtopic.php?c=23'},\n",
       "   '家用主機': {'url': 'https://www.mobile01.com/javascript:void(0);'},\n",
       "   '熱門遊戲': {'url': 'https://www.mobile01.com/javascript:void(0);'},\n",
       "   '手機遊戲': {'url': 'https://www.mobile01.com/forumtopic.php?c=23&s=41'},\n",
       "   '線上遊戲': {'url': 'https://www.mobile01.com/forumtopic.php?c=23&s=43'},\n",
       "   '電腦遊戲': {'url': 'https://www.mobile01.com/topiclist.php?f=283'},\n",
       "   '網頁遊戲': {'url': 'https://www.mobile01.com/topiclist.php?f=334'},\n",
       "   '其他遊戲': {'url': 'https://www.mobile01.com/topiclist.php?f=179'},\n",
       "   '電競週邊': {'url': 'https://www.mobile01.com/topiclist.php?f=685'},\n",
       "   '虛擬實境裝置': {'url': 'https://www.mobile01.com/topiclist.php?f=737'},\n",
       "   '封測帳號發送': {'url': 'https://www.mobile01.com/topiclist.php?f=388'},\n",
       "   '遊戲消費經驗分享': {'url': 'https://www.mobile01.com/topiclist.php?f=399'}}},\n",
       " '居家': {'sub_categories': {'居家綜合討論區': {'url': 'https://www.mobile01.com/forumtopic.php?c=26'},\n",
       "   '北部房產': {'url': 'https://www.mobile01.com/forumtopic.php?c=26&s=1'},\n",
       "   '中部房產': {'url': 'https://www.mobile01.com/forumtopic.php?c=26&s=2'},\n",
       "   '南部房產': {'url': 'https://www.mobile01.com/forumtopic.php?c=26&s=3'},\n",
       "   '東部房產': {'url': 'https://www.mobile01.com/forumtopic.php?c=26&s=4'},\n",
       "   '房地產資訊': {'url': 'https://www.mobile01.com/topiclist.php?f=356'},\n",
       "   '居家修繕': {'url': 'https://www.mobile01.com/topiclist.php?f=335'},\n",
       "   '家用電器': {'url': 'https://www.mobile01.com/topiclist.php?f=335'},\n",
       "   '空間設計與裝潢': {'url': 'https://www.mobile01.com/topiclist.php?f=360'},\n",
       "   '庭院園藝樂': {'url': 'https://www.mobile01.com/topiclist.php?f=578'},\n",
       "   '木工DIY': {'url': 'https://www.mobile01.com/topiclist.php?f=635'},\n",
       "   '居家房事消費經驗分享': {'url': 'https://www.mobile01.com/topiclist.php?f=400'}}},\n",
       " '女性': {'sub_categories': {'女性綜合討論區': {'url': 'https://www.mobile01.com/forumtopic.php?c=27'},\n",
       "   '五顏六色秀彩妝': {'url': 'https://www.mobile01.com/topiclist.php?f=371'},\n",
       "   '光鮮亮麗玩保養': {'url': 'https://www.mobile01.com/topiclist.php?f=372'},\n",
       "   '時尚流行新鮮話': {'url': 'https://www.mobile01.com/topiclist.php?f=373'},\n",
       "   '星座占卜小魔女': {'url': 'https://www.mobile01.com/topiclist.php?f=374'},\n",
       "   '媽媽寶寶親子': {'url': 'https://www.mobile01.com/topiclist.php?f=375'},\n",
       "   '魔女悄悄話': {'url': 'https://www.mobile01.com/topiclist.php?f=215'}}},\n",
       " '時尚': {'sub_categories': {'時尚綜合討論區': {'url': 'https://www.mobile01.com/forumtopic.php?c=31'},\n",
       "   '典藏腕時計': {'url': 'https://www.mobile01.com/forumtopic.php?c=31&s=44'},\n",
       "   '帽子與眼鏡': {'url': 'https://www.mobile01.com/topiclist.php?f=595'},\n",
       "   '外套與上衣': {'url': 'https://www.mobile01.com/topiclist.php?f=596'},\n",
       "   '褲款大搜查': {'url': 'https://www.mobile01.com/topiclist.php?f=597'},\n",
       "   '鞋靴樂收藏': {'url': 'https://www.mobile01.com/topiclist.php?f=598'},\n",
       "   '包包大集合': {'url': 'https://www.mobile01.com/topiclist.php?f=599'},\n",
       "   '飾品與配件': {'url': 'https://www.mobile01.com/topiclist.php?f=600'},\n",
       "   '造型與保養': {'url': 'https://www.mobile01.com/topiclist.php?f=301'},\n",
       "   '時尚流行綜合討論': {'url': 'https://www.mobile01.com/topiclist.php?f=302'},\n",
       "   '時尚消費經驗分享': {'url': 'https://www.mobile01.com/topiclist.php?f=744'}}},\n",
       " '運動': {'sub_categories': {'運動綜合討論區': {'url': 'https://www.mobile01.com/forumtopic.php?c=33'},\n",
       "   '球類運動': {'url': 'https://www.mobile01.com/forumtopic.php?c=33'},\n",
       "   '慢跑': {'url': 'https://www.mobile01.com/topiclist.php?f=558'},\n",
       "   '游泳': {'url': 'https://www.mobile01.com/topiclist.php?f=647'},\n",
       "   '潛水': {'url': 'https://www.mobile01.com/topiclist.php?f=648'},\n",
       "   '鐵人三項': {'url': 'https://www.mobile01.com/topiclist.php?f=639'},\n",
       "   '健身重訓': {'url': 'https://www.mobile01.com/topiclist.php?f=697'},\n",
       "   '衝浪': {'url': 'https://www.mobile01.com/topiclist.php?f=698'},\n",
       "   '滑雪': {'url': 'https://www.mobile01.com/topiclist.php?f=705'},\n",
       "   '運動綜合': {'url': 'https://www.mobile01.com/topiclist.php?f=293'},\n",
       "   '運動型穿戴裝置': {'url': 'https://www.mobile01.com/topiclist.php?f=739'},\n",
       "   '運動健身消費經驗分享': {'url': 'https://www.mobile01.com/topiclist.php?f=649'}}},\n",
       " '戶外': {'sub_categories': {'戶外綜合討論區': {'url': 'https://www.mobile01.com/forumtopic.php?c=3'},\n",
       "   '登山與健行': {'url': 'https://www.mobile01.com/topiclist.php?f=628'},\n",
       "   '享受釣遊樂': {'url': 'https://www.mobile01.com/topiclist.php?f=579'},\n",
       "   '露營野炊樂': {'url': 'https://www.mobile01.com/topiclist.php?f=641'},\n",
       "   '手電筒與照明': {'url': 'https://www.mobile01.com/topiclist.php?f=650'},\n",
       "   '戶外手持GPS裝置': {'url': 'https://www.mobile01.com/topiclist.php?f=777'},\n",
       "   '其他戶外活動': {'url': 'https://www.mobile01.com/topiclist.php?f=778'}}},\n",
       " '生活': {'sub_categories': {'生活綜合討論區': {'url': 'https://www.mobile01.com/forumtopic.php?c=25'},\n",
       "   '遙控與模型': {'url': 'https://www.mobile01.com/topiclist.php?f=368'},\n",
       "   '逸品博覽會': {'url': 'https://www.mobile01.com/topiclist.php?f=181'},\n",
       "   '動物與寵物': {'url': 'https://www.mobile01.com/topiclist.php?f=290'},\n",
       "   '健康與養生': {'url': 'https://www.mobile01.com/topiclist.php?f=330'},\n",
       "   '品酩享微醺': {'url': 'https://www.mobile01.com/topiclist.php?f=580'},\n",
       "   '漫畫與動畫': {'url': 'https://www.mobile01.com/topiclist.php?f=625'},\n",
       "   '閱讀與創作': {'url': 'https://www.mobile01.com/topiclist.php?f=594'},\n",
       "   '料理與食譜': {'url': 'https://www.mobile01.com/topiclist.php?f=602'},\n",
       "   '就愛咖啡香': {'url': 'https://www.mobile01.com/topiclist.php?f=640'},\n",
       "   '品茗賞壺趣': {'url': 'https://www.mobile01.com/topiclist.php?f=779'},\n",
       "   '惡魔島': {'url': 'https://www.mobile01.com/topiclist.php?f=601'}}},\n",
       " '旅遊美食': {'sub_categories': {'✈️便宜機票': {'url': 'https://www.mobile01.com/adredir.php?id=76502'},\n",
       "   '旅遊美食綜合討論': {'url': 'https://www.mobile01.com//topiclist.php?f=345'},\n",
       "   '北部地區': {'sub_sub_categories': {'name': '苗栗縣',\n",
       "     'url': 'https://www.mobile01.com//topiclist.php?f=194'}},\n",
       "   '中部地區': {'sub_sub_categories': {'name': '嘉義縣',\n",
       "     'url': 'https://www.mobile01.com//topiclist.php?f=201'}},\n",
       "   '南部地區': {'sub_sub_categories': {'name': '屏東縣',\n",
       "     'url': 'https://www.mobile01.com//topiclist.php?f=206'}},\n",
       "   '東部與外島': {'sub_sub_categories': {'name': '連江縣',\n",
       "     'url': 'https://www.mobile01.com//topiclist.php?f=212'}},\n",
       "   '五大洲': {'sub_sub_categories': {'name': '非洲',\n",
       "     'url': 'https://www.mobile01.com//topiclist.php?f=412'}},\n",
       "   '航空翱翔': {'url': 'https://www.mobile01.com//topiclist.php?f=699'},\n",
       "   '交通運輸': {'url': 'https://www.mobile01.com//topiclist.php?f=700'},\n",
       "   '租車經驗': {'url': 'https://www.mobile01.com//topiclist.php?f=701'},\n",
       "   '電信漫遊': {'url': 'https://www.mobile01.com//topiclist.php?f=702'},\n",
       "   '住宿訂房': {'url': 'https://www.mobile01.com//topiclist.php?f=703'}}},\n",
       " '閒聊': {'sub_categories': {'閒聊綜合討論區': {'url': 'https://www.mobile01.com/forumtopic.php?c=35'},\n",
       "   '投資與理財': {'url': 'https://www.mobile01.com/topiclist.php?f=291'},\n",
       "   '閒聊與趣味': {'url': 'https://www.mobile01.com/topiclist.php?f=37'},\n",
       "   '兩性與感情': {'url': 'https://www.mobile01.com/topiclist.php?f=292'},\n",
       "   '軍事迷基地': {'url': 'https://www.mobile01.com/topiclist.php?f=637'},\n",
       "   '職場甘苦談': {'url': 'https://www.mobile01.com/topiclist.php?f=651'},\n",
       "   '創業夢想家': {'url': 'https://www.mobile01.com/topiclist.php?f=747'}}},\n",
       " '時事': {'sub_categories': {'時事綜合討論區': {'url': 'https://www.mobile01.com/forumtopic.php?c=36'},\n",
       "   '台灣新聞': {'url': 'https://www.mobile01.com/topiclist.php?f=638'},\n",
       "   '國際新聞': {'url': 'https://www.mobile01.com/topiclist.php?f=780'},\n",
       "   '兩岸新聞': {'url': 'https://www.mobile01.com/topiclist.php?f=781'},\n",
       "   '民意調查': {'url': 'https://www.mobile01.com/topiclist.php?f=782'}}}}"
      ]
     },
     "execution_count": 16,
     "metadata": {},
     "output_type": "execute_result"
    }
   ],
   "source": [
    "from bs4 import BeautifulSoup\n",
    "import json\n",
    "soup = BeautifulSoup(open(\"html.html\"), 'lxml')\n",
    "base_url = url = 'https://www.mobile01.com'\n",
    "all_cat_dict={}\n",
    "menus_soup = soup.find(\"nav\",class_=\"l-menu\").findNext()\n",
    "on_bar= menus_soup.findNext().findAll('a',attrs={'data-menu':'lv1'})\n",
    "on_bar=on_bar[1] if on_bar[0].text == '首頁' else on_bar\n",
    "on_bar_sub_cats = on_bar.parent.parent.findAll('a',attrs={'data-menu':'lv2'})\n",
    "\n",
    "all_categories_soup = menus_soup.findAll('a',attrs={'data-menu':'lv1'})\n",
    "all_categories_soup = all_categories_soup[1:] if all_categories_soup[0].text == '首頁' else all_categories_soup\n",
    "bar_solved= False\n",
    "\n",
    "\n",
    "def solve_bar(on_bar_sub_cats,sub_cats_soup):\n",
    "    if len(sub_cats_soup)> len(on_bar_sub_cats):\n",
    "        list1 = sub_cats_soup\n",
    "        list2= on_bar_sub_cats\n",
    "    else:\n",
    "        list2 = sub_cats_soup\n",
    "        list1= on_bar_sub_cats\n",
    "\n",
    "    sub_cats_soup = sub_cats_soup + list(set(list1) - set(list2)) if any(elem in [elem2 for elem2 in sub_cats_soup]  for elem in on_bar_sub_cats) else sub_cats_soup\n",
    "    return sub_cats_soup\n",
    "\n",
    "\n",
    "for cat in all_categories_soup:\n",
    "    sub_cats_soup =cat.parent.find('ul').findAll('li',recursive=False)\n",
    "    sub_cats_soup= [sub_cat.find('a') for sub_cat in sub_cats_soup]\n",
    "    if bar_solved==False:\n",
    "        sub_cats_soup=solve_bar(on_bar_sub_cats,sub_cats_soup)\n",
    "        bar_solved=True\n",
    "    cat_name = cat.text\n",
    "\n",
    "    this_cat_dict ={}\n",
    "    for sub_cat in sub_cats_soup:\n",
    "        this_subcat_dict={}\n",
    "        try:\n",
    "            this_subcat_dict['url']= base_url+'/'+sub_cat['href']\n",
    "        except:\n",
    "            sub_sub_cats=sub_cat.parent.find('ul').findAll('a')\n",
    "            this_sub_sub_cat_dict={}\n",
    "            for sub_sub_cat in sub_sub_cats:\n",
    "                this_sub_sub_cat_dict['name']=sub_sub_cat.text\n",
    "                this_sub_sub_cat_dict['url']= base_url+'/'+sub_sub_cat['href']\n",
    "            this_subcat_dict['sub_sub_categories']=this_sub_sub_cat_dict\n",
    "        this_cat_dict[sub_cat.text] = this_subcat_dict\n",
    "    \n",
    "    all_cat_dict[cat_name] = {'sub_categories': this_cat_dict\n",
    "                         }\n",
    "\n",
    "all_cat_dict"
   ]
  },
  {
   "cell_type": "code",
   "execution_count": null,
   "metadata": {},
   "outputs": [],
   "source": [
    "post_url='https://www.mobile01.com/forumtopic.php?c=16'"
   ]
  },
  {
   "cell_type": "code",
   "execution_count": 30,
   "metadata": {},
   "outputs": [],
   "source": [
    "import time"
   ]
  },
  {
   "cell_type": "code",
   "execution_count": 22,
   "metadata": {},
   "outputs": [],
   "source": [
    "post_soup = BeautifulSoup(open(\"html_post.html\"), 'lxml')"
   ]
  },
  {
   "cell_type": "code",
   "execution_count": 24,
   "metadata": {},
   "outputs": [],
   "source": [
    "table_soup =post_soup.find('div',class_='l-tabulate')"
   ]
  },
  {
   "cell_type": "code",
   "execution_count": 38,
   "metadata": {},
   "outputs": [],
   "source": [
    "page_posts= table_soup.find('div',class_='l-listTable__tbody').findAll('div',class_=\"l-listTable__tr\")"
   ]
  },
  {
   "cell_type": "code",
   "execution_count": 46,
   "metadata": {},
   "outputs": [
    {
     "data": {
      "text/plain": [
       "'三星Samsung Galaxy Note 10動手玩 S Pen魔法在哪也揭曉'"
      ]
     },
     "execution_count": 46,
     "metadata": {},
     "output_type": "execute_result"
    }
   ],
   "source": [
    "page_posts[1].find('a',class_=\"c-link u-ellipsis\").text"
   ]
  },
  {
   "cell_type": "code",
   "execution_count": 48,
   "metadata": {},
   "outputs": [
    {
     "data": {
      "text/plain": [
       "'topicdetail.php?f=568&t=5866017'"
      ]
     },
     "execution_count": 48,
     "metadata": {},
     "output_type": "execute_result"
    }
   ],
   "source": [
    "page_posts[1].find('a',class_=\"c-link u-ellipsis\")['href']"
   ]
  },
  {
   "cell_type": "code",
   "execution_count": 54,
   "metadata": {},
   "outputs": [
    {
     "data": {
      "text/plain": [
       "'Nanako0625'"
      ]
     },
     "execution_count": 54,
     "metadata": {},
     "output_type": "execute_result"
    }
   ],
   "source": [
    "page_posts[1].find('div',class_=\"l-listTable__td l-listTable__td--time\").find('a').text"
   ]
  },
  {
   "cell_type": "code",
   "execution_count": 56,
   "metadata": {},
   "outputs": [
    {
     "data": {
      "text/plain": [
       "'2019-08-08 4:01'"
      ]
     },
     "execution_count": 56,
     "metadata": {},
     "output_type": "execute_result"
    }
   ],
   "source": [
    "page_posts[1].find('div',class_=\"o-fNotes\").text"
   ]
  },
  {
   "cell_type": "code",
   "execution_count": null,
   "metadata": {},
   "outputs": [],
   "source": [
    "for "
   ]
  },
  {
   "cell_type": "code",
   "execution_count": 31,
   "metadata": {},
   "outputs": [
    {
     "name": "stdout",
     "output_type": "stream",
     "text": [
      "a\n"
     ]
    },
    {
     "ename": "KeyboardInterrupt",
     "evalue": "",
     "output_type": "error",
     "traceback": [
      "\u001b[0;31m---------------------------------------------------------------------------\u001b[0m",
      "\u001b[0;31mKeyboardInterrupt\u001b[0m                         Traceback (most recent call last)",
      "\u001b[0;32m<ipython-input-31-f78d2397b346>\u001b[0m in \u001b[0;36m<module>\u001b[0;34m\u001b[0m\n\u001b[1;32m      1\u001b[0m \u001b[0;32mwhile\u001b[0m \u001b[0mtable_soup\u001b[0m\u001b[0;34m.\u001b[0m\u001b[0mfind\u001b[0m\u001b[0;34m(\u001b[0m\u001b[0;34m'a'\u001b[0m\u001b[0;34m,\u001b[0m\u001b[0mclass_\u001b[0m\u001b[0;34m=\u001b[0m\u001b[0;34m\"c-pagination c-pagination--next\"\u001b[0m\u001b[0;34m)\u001b[0m\u001b[0;34m:\u001b[0m\u001b[0;34m\u001b[0m\u001b[0;34m\u001b[0m\u001b[0m\n\u001b[1;32m      2\u001b[0m     \u001b[0mprint\u001b[0m\u001b[0;34m(\u001b[0m\u001b[0;34m'a'\u001b[0m\u001b[0;34m)\u001b[0m\u001b[0;34m\u001b[0m\u001b[0;34m\u001b[0m\u001b[0m\n\u001b[0;32m----> 3\u001b[0;31m     \u001b[0mtime\u001b[0m\u001b[0;34m.\u001b[0m\u001b[0msleep\u001b[0m\u001b[0;34m(\u001b[0m\u001b[0;36m5\u001b[0m\u001b[0;34m)\u001b[0m\u001b[0;34m\u001b[0m\u001b[0;34m\u001b[0m\u001b[0m\n\u001b[0m",
      "\u001b[0;31mKeyboardInterrupt\u001b[0m: "
     ]
    }
   ],
   "source": [
    "while table_soup.find('a',class_=\"c-pagination c-pagination--next\"):\n",
    "    \n",
    "    time.sleep(5)"
   ]
  },
  {
   "cell_type": "code",
   "execution_count": null,
   "metadata": {},
   "outputs": [],
   "source": []
  }
 ],
 "metadata": {
  "kernelspec": {
   "display_name": "Python 3",
   "language": "python",
   "name": "python3"
  },
  "language_info": {
   "codemirror_mode": {
    "name": "ipython",
    "version": 3
   },
   "file_extension": ".py",
   "mimetype": "text/x-python",
   "name": "python",
   "nbconvert_exporter": "python",
   "pygments_lexer": "ipython3",
   "version": "3.6.8"
  }
 },
 "nbformat": 4,
 "nbformat_minor": 2
}
