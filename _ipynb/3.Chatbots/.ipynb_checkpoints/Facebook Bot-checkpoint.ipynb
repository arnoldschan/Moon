{
 "cells": [
  {
   "cell_type": "code",
   "execution_count": 1,
   "metadata": {},
   "outputs": [
    {
     "ename": "ModuleNotFoundError",
     "evalue": "No module named 'pymessenger'",
     "output_type": "error",
     "traceback": [
      "\u001b[0;31m---------------------------------------------------------------------------\u001b[0m",
      "\u001b[0;31mModuleNotFoundError\u001b[0m                       Traceback (most recent call last)",
      "\u001b[0;32m<ipython-input-1-b862cfa34852>\u001b[0m in \u001b[0;36m<module>\u001b[0;34m\u001b[0m\n\u001b[1;32m      2\u001b[0m \u001b[0;32mimport\u001b[0m \u001b[0mrandom\u001b[0m\u001b[0;34m\u001b[0m\u001b[0;34m\u001b[0m\u001b[0m\n\u001b[1;32m      3\u001b[0m \u001b[0;32mfrom\u001b[0m \u001b[0mflask\u001b[0m \u001b[0;32mimport\u001b[0m \u001b[0mFlask\u001b[0m\u001b[0;34m,\u001b[0m \u001b[0mrequest\u001b[0m\u001b[0;34m\u001b[0m\u001b[0;34m\u001b[0m\u001b[0m\n\u001b[0;32m----> 4\u001b[0;31m \u001b[0;32mfrom\u001b[0m \u001b[0mpymessenger\u001b[0m\u001b[0;34m.\u001b[0m\u001b[0mbot\u001b[0m \u001b[0;32mimport\u001b[0m \u001b[0mBot\u001b[0m\u001b[0;34m\u001b[0m\u001b[0;34m\u001b[0m\u001b[0m\n\u001b[0m\u001b[1;32m      5\u001b[0m \u001b[0;34m\u001b[0m\u001b[0m\n\u001b[1;32m      6\u001b[0m \u001b[0mapp\u001b[0m \u001b[0;34m=\u001b[0m \u001b[0mFlask\u001b[0m\u001b[0;34m(\u001b[0m\u001b[0m__name__\u001b[0m\u001b[0;34m)\u001b[0m\u001b[0;34m\u001b[0m\u001b[0;34m\u001b[0m\u001b[0m\n",
      "\u001b[0;31mModuleNotFoundError\u001b[0m: No module named 'pymessenger'"
     ]
    }
   ],
   "source": [
    "\n",
    "#Python libraries that we need to import for our bot\n",
    "import random\n",
    "from flask import Flask, request\n",
    "from pymessenger.bot import Bot\n",
    "\n",
    "app = Flask(__name__)\n",
    "ACCESS_TOKEN = 'EAAEuGHwslGMBAOKcwMvIhRLBPF6PcsI6l2m9ZAs64ZB8QIChL0VqZAeVlXZCEPFk6hbwdSJ3pJAJBZBpGJZBpBbaOKDlVkcGgfjdPmcZCja0tbDPKZBDZA3LVCFet7DHa5f35JNgKYPMYP4DuFAjldQs7NTAdBZAa2wYAtrXDZCNms4EgZDZD'\n",
    "VERIFY_TOKEN = 'verifyme'\n",
    "bot = Bot(ACCESS_TOKEN)\n",
    "\n",
    "#We will receive messages that Facebook sends our bot at this endpoint \n",
    "@app.route(\"/\", methods=['GET', 'POST'])\n",
    "def receive_message():\n",
    "    if request.method == 'GET':\n",
    "        \"\"\"Before allowing people to message your bot, Facebook has implemented a verify token\n",
    "        that confirms all requests that your bot receives came from Facebook.\"\"\" \n",
    "        token_sent = request.args.get(\"hub.verify_token\")\n",
    "        return verify_fb_token(token_sent)\n",
    "    #if the request was not get, it must be POST and we can just proceed with sending a message back to user\n",
    "    else:\n",
    "        # get whatever message a user sent the bot\n",
    "       output = request.get_json()\n",
    "       for event in output['entry']:\n",
    "          messaging = event['messaging']\n",
    "          for message in messaging:\n",
    "            if message.get('message'):\n",
    "                #Facebook Messenger ID for user so we know where to send response back to\n",
    "                recipient_id = message['sender']['id']\n",
    "                if message['message'].get('text'):\n",
    "                    response_sent_text = get_message()\n",
    "                    send_message(recipient_id, response_sent_text)\n",
    "                #if user sends us a GIF, photo,video, or any other non-text item\n",
    "                if message['message'].get('attachments'):\n",
    "                    response_sent_nontext = get_message()\n",
    "                    send_message(recipient_id, response_sent_nontext)\n",
    "    return \"Message Processed\"\n",
    "\n",
    "\n",
    "def verify_fb_token(token_sent):\n",
    "    #take token sent by facebook and verify it matches the verify token you sent\n",
    "    #if they match, allow the request, else return an error \n",
    "    if token_sent == VERIFY_TOKEN:\n",
    "        return request.args.get(\"hub.challenge\")\n",
    "    return 'Invalid verification token'\n",
    "\n",
    "\n",
    "#chooses a random message to send to the user\n",
    "def get_message():\n",
    "    sample_responses = [\"You are stunning!\", \"We're proud of you.\", \"Keep on being you!\", \"We're greatful to know you :)\"]\n",
    "    # return selected item to the user\n",
    "    return random.choice(sample_responses)\n",
    "\n",
    "#uses PyMessenger to send response to user\n",
    "def send_message(recipient_id, response):\n",
    "    #sends user the text message provided via input response parameter\n",
    "    bot.send_text_message(recipient_id, response)\n",
    "    return \"success\"\n",
    "\n",
    "if __name__ == \"__main__\":\n",
    "    app.run()"
   ]
  },
  {
   "cell_type": "code",
   "execution_count": null,
   "metadata": {},
   "outputs": [],
   "source": []
  }
 ],
 "metadata": {
  "kernelspec": {
   "display_name": "Python 3",
   "language": "python",
   "name": "python3"
  },
  "language_info": {
   "codemirror_mode": {
    "name": "ipython",
    "version": 3
   },
   "file_extension": ".py",
   "mimetype": "text/x-python",
   "name": "python",
   "nbconvert_exporter": "python",
   "pygments_lexer": "ipython3",
   "version": "3.7.3"
  }
 },
 "nbformat": 4,
 "nbformat_minor": 4
}
